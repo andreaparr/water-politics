{
 "cells": [
  {
   "cell_type": "code",
   "execution_count": 15,
   "metadata": {},
   "outputs": [],
   "source": [
    "import pandas as pd\n",
    "import geopandas as gpd\n",
    "import json as js\n",
    "import csv"
   ]
  },
  {
   "cell_type": "code",
   "execution_count": 16,
   "metadata": {},
   "outputs": [],
   "source": [
    "df = pd.read_csv('../data/epa_wsio_atrisk.csv')"
   ]
  },
  {
   "cell_type": "code",
   "execution_count": 17,
   "metadata": {},
   "outputs": [
    {
     "name": "stdout",
     "output_type": "stream",
     "text": [
      "<class 'pandas.core.frame.DataFrame'>\n",
      "RangeIndex: 10103 entries, 0 to 10102\n",
      "Data columns (total 15 columns):\n",
      "HUC12                                     10103 non-null int64\n",
      "Name                                      10102 non-null object\n",
      "Aquatic Species At Risk                   10102 non-null float64\n",
      "Aquatic Animal Species At Risk            10102 non-null float64\n",
      "Aquatic Plant Species At Risk             10102 non-null float64\n",
      "Wetland Species At Risk                   10102 non-null float64\n",
      "Wetland Animal Species At Risk            10102 non-null float64\n",
      "Wetland Plant Species At Risk             10102 non-null float64\n",
      "Terrestrial Species At Risk               10102 non-null float64\n",
      "Terrestrial Animal Species At Risk        10102 non-null float64\n",
      "Terrestrial Plant Species At Risk         10102 non-null float64\n",
      "Reptile Species At Risk                   10103 non-null int64\n",
      "% Protected Rare Ecosystems               1963 non-null float64\n",
      "% Rare Ecosystem in WS                    10103 non-null float64\n",
      "Combined At Risk minus Reptile Species    10103 non-null int64\n",
      "dtypes: float64(11), int64(3), object(1)\n",
      "memory usage: 1.2+ MB\n"
     ]
    }
   ],
   "source": [
    "df.info()"
   ]
  },
  {
   "cell_type": "code",
   "execution_count": 18,
   "metadata": {
    "scrolled": true
   },
   "outputs": [],
   "source": [
    "huc12 = gpd.read_file('../data/watersheds-huc12.geojson')"
   ]
  },
  {
   "cell_type": "code",
   "execution_count": 19,
   "metadata": {},
   "outputs": [
    {
     "name": "stdout",
     "output_type": "stream",
     "text": [
      "<class 'geopandas.geodataframe.GeoDataFrame'>\n",
      "RangeIndex: 20964 entries, 0 to 20963\n",
      "Data columns (total 21 columns):\n",
      "OBJECTID      20964 non-null int64\n",
      "TNMID         20964 non-null object\n",
      "MetaSource    20964 non-null object\n",
      "SourceData    20964 non-null object\n",
      "SourceOrig    20964 non-null object\n",
      "SourceFeat    20964 non-null object\n",
      "LoadDate      20964 non-null object\n",
      "NonContrib    20964 non-null float64\n",
      "NonContr_1    20964 non-null float64\n",
      "AreaSqKm      20964 non-null float64\n",
      "AreaAcres     20964 non-null float64\n",
      "GNIS_ID       20964 non-null int64\n",
      "Name          20964 non-null object\n",
      "States        20964 non-null object\n",
      "HUC12         20964 non-null int64\n",
      "HUType        20964 non-null object\n",
      "HUMod         20964 non-null object\n",
      "ToHUC         20964 non-null object\n",
      "Shape_Leng    20964 non-null float64\n",
      "Shape_Area    20964 non-null float64\n",
      "geometry      20957 non-null object\n",
      "dtypes: float64(6), int64(3), object(12)\n",
      "memory usage: 3.4+ MB\n"
     ]
    }
   ],
   "source": [
    "huc12.info()"
   ]
  },
  {
   "cell_type": "code",
   "execution_count": null,
   "metadata": {},
   "outputs": [],
   "source": [
    "# read content from json file\n",
    "with open ('../data/watersheds-huc12.json', 'r') as file:\n",
    "    content = file.read()\n",
    "file.close()\n",
    "js_parsed = js.loads(content)"
   ]
  },
  {
   "cell_type": "code",
   "execution_count": null,
   "metadata": {},
   "outputs": [],
   "source": [
    "with open ('../data/watersheds-huc12.json', 'wt') as f:\n",
    "    dict_writer = csv.DictWriter(f,fieldnames = ['features', 'type'])\n",
    "    dict_writer.writeheader() # write header in the csv file\n",
    "    dict_writer.writerow(js_parsed)"
   ]
  }
 ],
 "metadata": {
  "kernelspec": {
   "display_name": "Python 3",
   "language": "python",
   "name": "python3"
  },
  "language_info": {
   "codemirror_mode": {
    "name": "ipython",
    "version": 3
   },
   "file_extension": ".py",
   "mimetype": "text/x-python",
   "name": "python",
   "nbconvert_exporter": "python",
   "pygments_lexer": "ipython3",
   "version": "3.6.8"
  }
 },
 "nbformat": 4,
 "nbformat_minor": 2
}
